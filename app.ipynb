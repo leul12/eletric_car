{
 "cells": [
  {
   "cell_type": "code",
   "execution_count": 1,
   "metadata": {},
   "outputs": [],
   "source": [
    "import pandas as pd"
   ]
  },
  {
   "attachments": {},
   "cell_type": "markdown",
   "metadata": {},
   "source": [
    "## 1. Preprocess the data by selecting the relevant features and normalizing the numerical features"
   ]
  },
  {
   "cell_type": "code",
   "execution_count": 2,
   "metadata": {},
   "outputs": [],
   "source": [
    "\n",
    "df = pd.read_csv('Electric_Vehicle_Population_Data.csv', index_col=False)"
   ]
  },
  {
   "attachments": {},
   "cell_type": "markdown",
   "metadata": {},
   "source": [
    "### rename the columns and select relevant features"
   ]
  },
  {
   "cell_type": "code",
   "execution_count": 3,
   "metadata": {},
   "outputs": [],
   "source": [
    "new_column_names = {\n",
    "    'VIN': 'vin_number',\n",
    "    'County': 'county_name',\n",
    "    'City': 'city_name',\n",
    "    'State': 'state_name',\n",
    "    'Postal Code': 'postal_code',\n",
    "    'Model Year': 'model_year',\n",
    "    'Make': 'car_make',\n",
    "    'Model': 'car_model',\n",
    "    'Electric Vehicle Type': 'ev_type',\n",
    "    'Clean Alternative Fuel Vehicle (CAFV) Eligibility': 'cafve',\n",
    "    'Electric Range': 'ev_range',\n",
    "    'Base MSRP': 'msrp',\n",
    "    'Legislative District': 'legislative_district',\n",
    "    'DOL Vehicle ID': 'dol_vehicle_id',\n",
    "    'Vehicle Location': 'location',\n",
    "    'Electric Utility': 'electric_utility',\n",
    "    '2020 Census Tract': 'census_tract'\n",
    "}\n",
    "\n",
    "# Use the rename() method to rename the column names\n",
    "df = df.rename(columns=new_column_names)\n"
   ]
  },
  {
   "cell_type": "code",
   "execution_count": 4,
   "metadata": {},
   "outputs": [],
   "source": [
    "selected_features = ['model_year', 'car_make', 'car_model', 'ev_type', 'ev_range', 'location']"
   ]
  },
  {
   "attachments": {},
   "cell_type": "markdown",
   "metadata": {},
   "source": [
    "### Create a new DataFrame with only the selected features"
   ]
  },
  {
   "cell_type": "code",
   "execution_count": 5,
   "metadata": {},
   "outputs": [],
   "source": [
    "df_selected = df[selected_features].copy()"
   ]
  },
  {
   "attachments": {},
   "cell_type": "markdown",
   "metadata": {},
   "source": [
    "### Normalize the electric range feature"
   ]
  },
  {
   "cell_type": "code",
   "execution_count": 6,
   "metadata": {},
   "outputs": [],
   "source": [
    "electric_range_mean = df_selected['ev_range'].mean()\n",
    "electric_range_std = df_selected['ev_range'].std()\n",
    "df_selected['ev_range'] = (df_selected['ev_range'] - electric_range_mean) / electric_range_std"
   ]
  },
  {
   "attachments": {},
   "cell_type": "markdown",
   "metadata": {},
   "source": [
    "### *Convert the location feature to a Point type and split into latitude and longitude*"
   ]
  },
  {
   "cell_type": "code",
   "execution_count": 7,
   "metadata": {},
   "outputs": [],
   "source": [
    "df_selected['long'] = df_selected['location'].apply(lambda x: float(\n",
    "    x.split()[1].strip(\"()\")) if isinstance(x, str) else None)\n",
    "df_selected['lat'] = df_selected['location'].apply(lambda x: float(\n",
    "    x.split()[2].strip(\"()\")) if isinstance(x, str) else None)\n",
    "df_selected = df_selected.drop('location', axis=1)"
   ]
  },
  {
   "cell_type": "code",
   "execution_count": 8,
   "metadata": {},
   "outputs": [
    {
     "data": {
      "text/html": [
       "<div>\n",
       "<style scoped>\n",
       "    .dataframe tbody tr th:only-of-type {\n",
       "        vertical-align: middle;\n",
       "    }\n",
       "\n",
       "    .dataframe tbody tr th {\n",
       "        vertical-align: top;\n",
       "    }\n",
       "\n",
       "    .dataframe thead th {\n",
       "        text-align: right;\n",
       "    }\n",
       "</style>\n",
       "<table border=\"1\" class=\"dataframe\">\n",
       "  <thead>\n",
       "    <tr style=\"text-align: right;\">\n",
       "      <th></th>\n",
       "      <th>model_year</th>\n",
       "      <th>car_make</th>\n",
       "      <th>car_model</th>\n",
       "      <th>ev_type</th>\n",
       "      <th>ev_range</th>\n",
       "      <th>long</th>\n",
       "      <th>lat</th>\n",
       "    </tr>\n",
       "  </thead>\n",
       "  <tbody>\n",
       "    <tr>\n",
       "      <th>0</th>\n",
       "      <td>2020</td>\n",
       "      <td>TESLA</td>\n",
       "      <td>MODEL 3</td>\n",
       "      <td>Battery Electric Vehicle (BEV)</td>\n",
       "      <td>2.417256</td>\n",
       "      <td>-120.56916</td>\n",
       "      <td>46.58514</td>\n",
       "    </tr>\n",
       "    <tr>\n",
       "      <th>1</th>\n",
       "      <td>2019</td>\n",
       "      <td>TESLA</td>\n",
       "      <td>MODEL 3</td>\n",
       "      <td>Battery Electric Vehicle (BEV)</td>\n",
       "      <td>1.400631</td>\n",
       "      <td>-117.16171</td>\n",
       "      <td>32.71568</td>\n",
       "    </tr>\n",
       "  </tbody>\n",
       "</table>\n",
       "</div>"
      ],
      "text/plain": [
       "   model_year car_make car_model                         ev_type  ev_range  \\\n",
       "0        2020    TESLA   MODEL 3  Battery Electric Vehicle (BEV)  2.417256   \n",
       "1        2019    TESLA   MODEL 3  Battery Electric Vehicle (BEV)  1.400631   \n",
       "\n",
       "        long       lat  \n",
       "0 -120.56916  46.58514  \n",
       "1 -117.16171  32.71568  "
      ]
     },
     "execution_count": 8,
     "metadata": {},
     "output_type": "execute_result"
    }
   ],
   "source": [
    "df_selected.head(2)"
   ]
  },
  {
   "attachments": {},
   "cell_type": "markdown",
   "metadata": {},
   "source": [
    "## 2. Use clustering techniques to group the vehicles based on their features\n",
    ".  using  `K-means` clustering"
   ]
  }
 ],
 "metadata": {
  "kernelspec": {
   "display_name": "Python 3",
   "language": "python",
   "name": "python3"
  },
  "language_info": {
   "codemirror_mode": {
    "name": "ipython",
    "version": 3
   },
   "file_extension": ".py",
   "mimetype": "text/x-python",
   "name": "python",
   "nbconvert_exporter": "python",
   "pygments_lexer": "ipython3",
   "version": "3.9.6"
  },
  "orig_nbformat": 4
 },
 "nbformat": 4,
 "nbformat_minor": 2
}
